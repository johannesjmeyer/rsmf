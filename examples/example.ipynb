{
 "cells": [
  {
   "cell_type": "code",
   "execution_count": 2,
   "metadata": {},
   "outputs": [],
   "source": [
    "import matplotlib as mpl\n",
    "import matplotlib.pyplot as plt\n",
    "import numpy as np\n",
    "import seaborn as sns\n",
    "import importlib.util\n",
    "import scipy\n",
    "import scipy.ndimage\n",
    "import sys\n",
    "\n",
    "# Load rsmf from relative location\n",
    "spec = importlib.util.spec_from_file_location(\"rsmf\", \"../rsmf/__init__.py\")\n",
    "rsmf = importlib.util.module_from_spec(spec)\n",
    "sys.modules[spec.name] = rsmf\n",
    "spec.loader.exec_module(rsmf)"
   ]
  },
  {
   "attachments": {},
   "cell_type": "markdown",
   "metadata": {},
   "source": [
    "## Setup plots"
   ]
  },
  {
   "cell_type": "code",
   "execution_count": 3,
   "metadata": {},
   "outputs": [],
   "source": [
    "formatter = rsmf.setup(\"example.tex\")"
   ]
  },
  {
   "attachments": {},
   "cell_type": "markdown",
   "metadata": {},
   "source": [
    "## Simple annotated plot"
   ]
  },
  {
   "cell_type": "code",
   "execution_count": 4,
   "metadata": {},
   "outputs": [],
   "source": [
    "x = np.linspace(0, 5, 50)\n",
    "f = (x-1)**2 - x + 0.25 + np.sin(3*x) + 5 * np.exp(-x)\n",
    "F = (x-1)**3/3. - x**2/2 + 0.25*x + 1/3. - 1/3. * (np.cos(3*x)-1) - 5 * np.exp(-x) + 5\n",
    "\n",
    "fig = formatter.figure()\n",
    "\n",
    "plt.plot(x, f)\n",
    "plt.plot(x, F)\n",
    "\n",
    "plt.text(4.2,3,'$f(x)$')\n",
    "plt.text(1.5,7.5, r'$\\int_0^x \\mathrm{d}\\xi \\, f(\\xi)$')\n",
    "plt.xlabel('$x$')\n",
    "plt.tight_layout()\n",
    "plt.savefig(\"annotated_plot.pdf\")"
   ]
  },
  {
   "attachments": {},
   "cell_type": "markdown",
   "metadata": {},
   "source": [
    "## More complicated subplot example"
   ]
  },
  {
   "cell_type": "code",
   "execution_count": 5,
   "metadata": {},
   "outputs": [],
   "source": [
    "# Create a custom cyclic colormap\n",
    "cdict = {'red':   ((0.0,  0.05, 0.05),\n",
    "                   (0.25,  1.0, 1.0),\n",
    "                   (0.5,  0.7, 0.7),\n",
    "                   (0.75,  0.02, 0.02),\n",
    "                   (1.0,  0.05, 0.05)),\n",
    "         'green': ((0.0,  0.27, 0.27),\n",
    "                   (0.25,  0.72, 0.72),\n",
    "                   (0.5,  0.02, 0.02),\n",
    "                   (0.75,  0.80, 0.80),\n",
    "                   (1.0,  0.27, 0.27)),\n",
    "         'blue':  ((0.0,  1.0, 1.0),\n",
    "                   (0.25,  0.02, 0.02),\n",
    "                   (0.5,  0.21, 0.21),\n",
    "                   (0.75,  0.12, 0.12),\n",
    "                   (1.0,  1.0, 1.0))}\n",
    "\n",
    "my_colormap = mpl.colors.LinearSegmentedColormap('mycolormap', cdict)\n",
    "\n",
    "\n",
    "# Make plotting reusable\n",
    "def plot_array(arr, label):\n",
    "    ax_ = plt.gca()\n",
    "    X, Y = np.meshgrid(range(arr.shape[0]), range(arr.shape[1]), indexing='ij')\n",
    "    plt.setp(ax_.get_yticklabels(), visible=False)\n",
    "    plt.setp(ax_.get_xticklabels(), visible=False)\n",
    "    for tic in ax_.xaxis.get_major_ticks() + ax_.yaxis.get_major_ticks():\n",
    "        tic.tick1On = False\n",
    "        tic.tick2On = False    \n",
    "    \n",
    "    im = plt.pcolormesh(X, Y, arr, vmin=0.0, vmax = 2*np.pi, cmap=my_colormap)\n",
    "    \n",
    "    ax_.axis([X.min(), X.max(), Y.min(), Y.max()])\n",
    "    \n",
    "    # Reduce title fontsize -- it is important to use props here as they guarantee\n",
    "    # that the fontsize fits well with the surrounding document\n",
    "    plt.title(label, fontdict = {'fontsize' : formatter.fontsizes.normalsize})\n",
    "    \n",
    "    return im\n",
    "\n",
    "# Create some dummy data\n",
    "dummy_data = np.random.uniform(0.0, 2 * np.pi, (4,32,32))\n",
    "dummy_data[1] = scipy.ndimage.uniform_filter(dummy_data[0], size=2, mode='wrap')\n",
    "dummy_data[2] = scipy.ndimage.uniform_filter(dummy_data[0], size=4, mode='wrap')\n",
    "dummy_data[3] = scipy.ndimage.uniform_filter(dummy_data[0], size=9, mode='wrap')\n",
    "\n",
    "# The actual plotting\n",
    "fig = formatter.figure(aspect_ratio=3.57, wide=True)\n",
    "    \n",
    "ax1 = plt.subplot2grid((1,17), (0,0), colspan=4)\n",
    "ax2 = plt.subplot2grid((1,17), (0,4), colspan=4)\n",
    "ax3 = plt.subplot2grid((1,17), (0,8), colspan=4)\n",
    "ax4 = plt.subplot2grid((1,17), (0,12), colspan=4)\n",
    "ax5 = plt.subplot2grid((1,17), (0,16))\n",
    "\n",
    "for (ax_, title_, idx_) in [(ax1, '$t = 0$', 0), (ax2, '$t = 1$', 1), (ax3, '$t = 10$', 2), (ax4, '$t = 100$', 3)]:\n",
    "    plt.sca(ax_)\n",
    "    im = plot_array(dummy_data[idx_,:,:], title_)      \n",
    "\n",
    "norm = mpl.colors.Normalize(vmin=0, vmax=2*np.pi)\n",
    "cb1 = mpl.colorbar.ColorbarBase(ax5, cmap=my_colormap,\n",
    "                                norm=norm,\n",
    "                                ticks=[0, np.pi, 2*np.pi],\n",
    "                                orientation='vertical')\n",
    "cb1.ax.set_yticklabels(['$0$', '$\\\\pi$', '$2 \\\\pi$'])\n",
    "cb1.set_label('Spin angle')\n",
    "plt.tight_layout()\n",
    "plt.savefig(\"spins.pdf\")"
   ]
  },
  {
   "attachments": {},
   "cell_type": "markdown",
   "metadata": {},
   "source": [
    "## Seaborn integration example\n",
    "\n",
    "Note that we have to reset the correct fontsizes after applying the seaborn style."
   ]
  },
  {
   "cell_type": "code",
   "execution_count": 7,
   "metadata": {},
   "outputs": [],
   "source": [
    "fig = formatter.figure(wide=True)\n",
    "sns.set(style=\"ticks\")\n",
    "formatter.set_default_fontsizes()\n",
    "\n",
    "rs = np.random.RandomState(11)\n",
    "x = rs.gamma(2, size=1000)\n",
    "y = -.5 * x + rs.normal(size=1000)\n",
    "\n",
    "sns.jointplot(x=x, y=y, kind=\"hex\", color=\"#4CB391\")\n",
    "\n",
    "plt.tight_layout()\n",
    "plt.savefig(\"hexbin.pdf\")"
   ]
  },
  {
   "cell_type": "code",
   "execution_count": null,
   "metadata": {},
   "outputs": [],
   "source": []
  }
 ],
 "metadata": {
  "kernelspec": {
   "display_name": "Python 3",
   "language": "python",
   "name": "python3"
  },
  "language_info": {
   "codemirror_mode": {
    "name": "ipython",
    "version": 3
   },
   "file_extension": ".py",
   "mimetype": "text/x-python",
   "name": "python",
   "nbconvert_exporter": "python",
   "pygments_lexer": "ipython3",
   "version": "3.11.2"
  }
 },
 "nbformat": 4,
 "nbformat_minor": 2
}
